{
 "cells": [
  {
   "cell_type": "code",
   "execution_count": null,
   "id": "67358e98",
   "metadata": {},
   "outputs": [],
   "source": [
    "4.1"
   ]
  },
  {
   "cell_type": "code",
   "execution_count": 5,
   "id": "483f7831",
   "metadata": {},
   "outputs": [
    {
     "name": "stdout",
     "output_type": "stream",
     "text": [
      "too low\n"
     ]
    }
   ],
   "source": [
    "secret = 7\n",
    "guess = 5\n",
    "if guess < secret:\n",
    "    print('too low')\n",
    "elif guess > secret:\n",
    "    print('too high')\n",
    "else:\n",
    "    print('just right')"
   ]
  },
  {
   "cell_type": "markdown",
   "id": "8ef24c69",
   "metadata": {},
   "source": [
    "4.2"
   ]
  },
  {
   "cell_type": "code",
   "execution_count": 4,
   "id": "a7998490",
   "metadata": {},
   "outputs": [
    {
     "name": "stdout",
     "output_type": "stream",
     "text": [
      "watermelon\n"
     ]
    }
   ],
   "source": [
    "small = False\n",
    "green = True\n",
    "if small:\n",
    "    if green:\n",
    "        print(\"pea\")\n",
    "    else:\n",
    "        print(\"cherry\")\n",
    "else:\n",
    "    if green:\n",
    "        print(\"watermelon\")\n",
    "    else:\n",
    "        print(\"pumpkin\")"
   ]
  },
  {
   "cell_type": "markdown",
   "id": "b724adab",
   "metadata": {},
   "source": [
    "6.1 "
   ]
  },
  {
   "cell_type": "code",
   "execution_count": 3,
   "id": "b9e7d03b",
   "metadata": {},
   "outputs": [
    {
     "name": "stdout",
     "output_type": "stream",
     "text": [
      "3\n",
      "2\n",
      "1\n",
      "0\n"
     ]
    }
   ],
   "source": [
    "for value in [3,2,1,0]:\n",
    "    print(value)"
   ]
  },
  {
   "cell_type": "markdown",
   "id": "cb79ff0d",
   "metadata": {},
   "source": [
    "6.2"
   ]
  },
  {
   "cell_type": "code",
   "execution_count": 2,
   "id": "56ea0b6e",
   "metadata": {},
   "outputs": [
    {
     "name": "stdout",
     "output_type": "stream",
     "text": [
      "too low\n",
      "too low\n",
      "too low\n",
      "too low\n",
      "too low\n",
      "too low\n",
      "found it!\n"
     ]
    }
   ],
   "source": [
    "guess_me = 7\n",
    "number = 1\n",
    "while True:\n",
    "    if number < guess_me:\n",
    "        print(\"too low\")\n",
    "    elif number == guess_me:\n",
    "        print('found it!')\n",
    "        break\n",
    "    elif number > guess_me:\n",
    "        print (\"Opps!\")\n",
    "        break\n",
    "    number += 1"
   ]
  },
  {
   "cell_type": "code",
   "execution_count": null,
   "id": "893ba570",
   "metadata": {},
   "outputs": [],
   "source": [
    "6.3"
   ]
  },
  {
   "cell_type": "code",
   "execution_count": 1,
   "id": "aa57ec40",
   "metadata": {},
   "outputs": [
    {
     "name": "stdout",
     "output_type": "stream",
     "text": [
      "too low!\n",
      "too low!\n",
      "too low!\n",
      "too low!\n",
      "too low!\n",
      "found it!\n"
     ]
    }
   ],
   "source": [
    "guess_me = 5\n",
    "for number in range(10):\n",
    "    if number < guess_me:\n",
    "        print(\"too low!\")\n",
    "    elif number == guess_me:\n",
    "        print(\"found it!\")\n",
    "        break\n",
    "    else:\n",
    "        print(\"oops!\")\n",
    "        break"
   ]
  },
  {
   "cell_type": "code",
   "execution_count": null,
   "id": "29498496",
   "metadata": {},
   "outputs": [],
   "source": []
  }
 ],
 "metadata": {
  "kernelspec": {
   "display_name": "Python 3 (ipykernel)",
   "language": "python",
   "name": "python3"
  },
  "language_info": {
   "codemirror_mode": {
    "name": "ipython",
    "version": 3
   },
   "file_extension": ".py",
   "mimetype": "text/x-python",
   "name": "python",
   "nbconvert_exporter": "python",
   "pygments_lexer": "ipython3",
   "version": "3.11.5"
  }
 },
 "nbformat": 4,
 "nbformat_minor": 5
}
